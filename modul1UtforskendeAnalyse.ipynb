{
 "cells": [
  {
   "cell_type": "markdown",
   "metadata": {
    "cell_id": "00001-c91ea318-f4a7-4e54-b82a-410ef05acd91",
    "deepnote_cell_type": "markdown",
    "id": "jPJAeVM1qOir",
    "tags": []
   },
   "source": [
    "# Anvendt KI og ML: Maskinlæringsprosessen\n",
    "Velkommen til denne notebooken som inngår i Høyskolen Kristianias emne «Anvendt kunstig intelligens og maskinlæring», modul 1, «Dataanalyse og maskinlæring som prosess».\n",
    "\n",
    "## Hvordan du bruker denne notebooken \n",
    "Dette er en Jupyter notebook med tekst og Python-kode som du kjører ved å trykke shift-enter. Hensikten er å bli kjent med relevante konsepter i praksis, ikke nødvendigvis å forstå alle detaljer i koden. Ta deg god tid til å lese teksten, se gjennom koden, kjøre kodecellene (pass på riktig rekkefølge), studere resultatene, og tenke gjennom hva vi gjør, hvorfor og hvordan.\n",
    "\n",
    "Underveis i teksten vil du finne referanser til Canvas-oppgaver _i kursiv_. Gå til Canvas og besvar spørsmålene der før du går videre i notebooken.\n",
    "\n",
    "## Problemstilling: Utforske data til bruk for å predikere mosjonsløp\n",
    "I denne notebooken skal vi se hvordan vi kan utforske dataene, finne problemer med datakvaliteten, og se hvordan disse vil påvirke en modell."
   ]
  },
  {
   "cell_type": "code",
   "execution_count": 1,
   "metadata": {
    "cell_id": "00002-df831324-46b6-4b62-8381-ff8b4a1c08c5",
    "deepnote_cell_type": "code",
    "deepnote_to_be_reexecuted": false,
    "execution_millis": 1607,
    "execution_start": 1635950699257,
    "id": "4Okoyept70PK",
    "source_hash": "5d91036d"
   },
   "outputs": [],
   "source": [
    "# Vi starter med å importere alle programvarebibliotek vi vil bruke\n",
    "import pandas as pd\n",
    "import matplotlib.pyplot as plt\n",
    "import numpy as np\n",
    "import random\n",
    "import seaborn as sns\n",
    "import math\n",
    "\n",
    "from sklearn.metrics import mean_squared_error\n",
    "from sklearn.linear_model import LinearRegression\n",
    "from sklearn.model_selection import train_test_split\n",
    "from sklearn.ensemble import RandomForestRegressor\n",
    "from sklearn.preprocessing import StandardScaler,MinMaxScaler\n",
    "\n",
    "np.random.seed(10)\n",
    "random.seed(30)"
   ]
  },
  {
   "cell_type": "code",
   "execution_count": 2,
   "metadata": {
    "cell_id": "00004-cd7fd4f4-857b-4de6-a32e-30955713c036",
    "deepnote_cell_type": "code",
    "deepnote_to_be_reexecuted": false,
    "execution_millis": 32,
    "execution_start": 1635950708126,
    "source_hash": "58a72010",
    "tags": []
   },
   "outputs": [
    {
     "name": "stdout",
     "output_type": "stream",
     "text": [
      "C:\\Users\\16018\\AppData\\Local\\anaconda3\\envs\\kristiania\\python.exe\n"
     ]
    }
   ],
   "source": [
    "# En liten test for å sjekke at vi faktisk kjører i riktig Anaconda-environment\n",
    "import sys\n",
    "print(sys.executable)"
   ]
  },
  {
   "cell_type": "code",
   "execution_count": 3,
   "metadata": {
    "cell_id": "00004-3fabd67e-0d02-40f0-96a8-9360341fe29e",
    "deepnote_cell_type": "code",
    "deepnote_to_be_reexecuted": false,
    "execution_millis": 1,
    "execution_start": 1635950713201,
    "source_hash": "cb2c9ca"
   },
   "outputs": [],
   "source": [
    "# Noen hjelpefunksjoner. Du må kjøre disse cellene.\n",
    "def make_histogram(data, variable, binwidth, lower_lim=None, upper_lim=None):\n",
    "    if upper_lim == None:\n",
    "        upper_lim = data[variable].max()\n",
    "    if lower_lim == None:\n",
    "        lower_lim = data[variable].min()\n",
    "    bins=np.arange(lower_lim, upper_lim + binwidth, binwidth)\n",
    "    plt.hist(data[variable],bins=bins,edgecolor = 'black',alpha=0.75,range = [data[variable].min(),upper_lim])\n",
    "    plt.ylabel(\"antall\")\n",
    "    plt.xlabel(variable)"
   ]
  },
  {
   "cell_type": "code",
   "execution_count": 4,
   "metadata": {
    "cell_id": "00005-68b31ce5-cec0-404b-ac03-728bedb9fe64",
    "deepnote_cell_type": "code",
    "deepnote_to_be_reexecuted": false,
    "execution_millis": 2,
    "execution_start": 1635950715777,
    "source_hash": "6df52c67",
    "tags": []
   },
   "outputs": [],
   "source": [
    "def make_scatter_plot(data, para1, para2, logx=False, logy=False):\n",
    "    plt.plot(data[para1], data[para2], '*', alpha=0.1)\n",
    "    if logx:\n",
    "        plt.xscale(\"log\")\n",
    "    if logy:\n",
    "        plt.yscale('log')\n",
    "    plt.xlabel(para1)\n",
    "    plt.ylabel(para2)"
   ]
  },
  {
   "cell_type": "code",
   "execution_count": 5,
   "metadata": {
    "cell_id": "00006-19b79905-7fe8-42dc-852f-2361232091d7",
    "deepnote_cell_type": "code",
    "deepnote_to_be_reexecuted": false,
    "execution_millis": 5,
    "execution_start": 1635950716706,
    "source_hash": "e0485759",
    "tags": []
   },
   "outputs": [],
   "source": [
    "def corr_heatmap(df, figsize=(10, 10)):\n",
    "    _, axs = plt.subplots(figsize=figsize)\n",
    "    ax = sns.heatmap(\n",
    "        df, vmin=-1, vmax=1, cmap=\"BrBG\", linewidths=0.5, annot=True, ax=axs)\n",
    "    ax.set_title('Correlation matrix')\n",
    "    return ax"
   ]
  },
  {
   "cell_type": "markdown",
   "metadata": {
    "cell_id": "00008-6a745355-4ea3-4031-9bbe-e36358bb3d1a",
    "deepnote_cell_type": "markdown"
   },
   "source": [
    "## Utforske dataene\n",
    "Her skal du selv utforske dataene for å få et overblikk. Som et minimum bør man sjekke maks-/min-verdier, antall verdier for kategoriske variabler, distribusjonen til de forskjellige variablene, og om det er noen korrelasjon mellom variablene. Vi har laget tre hjelpefunksjoner for å lage histogrammer, scatterplots og en heatmap for korrelasjoner. Nedenfor vises hvordan disse brukes for noen av variablene.\n",
    "\n",
    "Din jobb er å utforske hele datasettet og se om noen data bør ekskluderes før vi kan bruke datasettet til maskinlæring."
   ]
  },
  {
   "cell_type": "code",
   "execution_count": 6,
   "metadata": {
    "cell_id": "00010-1d3bebbf-3810-418a-872a-696d775cf45a",
    "deepnote_cell_type": "code",
    "deepnote_to_be_reexecuted": false,
    "execution_millis": 8,
    "execution_start": 1635950722150,
    "source_hash": "e5f0321b"
   },
   "outputs": [],
   "source": [
    "# Ved hjelp av Pandas-biblioteket leser vi inn datasettet fra fil\n",
    "data = pd.read_csv(\"data/mosjonsløp.csv\")"
   ]
  },
  {
   "cell_type": "code",
   "execution_count": 7,
   "metadata": {
    "cell_id": "00011-c153d251-a5ce-41d0-a4f8-e8dd119c8b91",
    "deepnote_cell_type": "code",
    "deepnote_to_be_reexecuted": false,
    "execution_millis": 72,
    "execution_start": 1635950724662,
    "source_hash": "e6928a8f"
   },
   "outputs": [
    {
     "data": {
      "text/html": [
       "<div>\n",
       "<style scoped>\n",
       "    .dataframe tbody tr th:only-of-type {\n",
       "        vertical-align: middle;\n",
       "    }\n",
       "\n",
       "    .dataframe tbody tr th {\n",
       "        vertical-align: top;\n",
       "    }\n",
       "\n",
       "    .dataframe thead th {\n",
       "        text-align: right;\n",
       "    }\n",
       "</style>\n",
       "<table border=\"1\" class=\"dataframe\">\n",
       "  <thead>\n",
       "    <tr style=\"text-align: right;\">\n",
       "      <th></th>\n",
       "      <th>tid</th>\n",
       "      <th>trening per uke</th>\n",
       "      <th>alder</th>\n",
       "      <th>klasse</th>\n",
       "      <th>løpsted</th>\n",
       "    </tr>\n",
       "  </thead>\n",
       "  <tbody>\n",
       "    <tr>\n",
       "      <th>0</th>\n",
       "      <td>0:40:16</td>\n",
       "      <td>2</td>\n",
       "      <td>45</td>\n",
       "      <td>herre</td>\n",
       "      <td>Oslo</td>\n",
       "    </tr>\n",
       "    <tr>\n",
       "      <th>1</th>\n",
       "      <td>0:46:25</td>\n",
       "      <td>8</td>\n",
       "      <td>19</td>\n",
       "      <td>dame</td>\n",
       "      <td>Tromsø</td>\n",
       "    </tr>\n",
       "    <tr>\n",
       "      <th>2</th>\n",
       "      <td>0:35:21</td>\n",
       "      <td>5</td>\n",
       "      <td>48</td>\n",
       "      <td>herre</td>\n",
       "      <td>Tromsø</td>\n",
       "    </tr>\n",
       "    <tr>\n",
       "      <th>3</th>\n",
       "      <td>0:40:33</td>\n",
       "      <td>11</td>\n",
       "      <td>47</td>\n",
       "      <td>dame</td>\n",
       "      <td>Lillehammer</td>\n",
       "    </tr>\n",
       "    <tr>\n",
       "      <th>4</th>\n",
       "      <td>0:52:34</td>\n",
       "      <td>5</td>\n",
       "      <td>65</td>\n",
       "      <td>herre</td>\n",
       "      <td>Tromsø</td>\n",
       "    </tr>\n",
       "  </tbody>\n",
       "</table>\n",
       "</div>"
      ],
      "text/plain": [
       "       tid  trening per uke  alder klasse      løpsted\n",
       "0  0:40:16                2     45  herre         Oslo\n",
       "1  0:46:25                8     19   dame       Tromsø\n",
       "2  0:35:21                5     48  herre       Tromsø\n",
       "3  0:40:33               11     47   dame  Lillehammer\n",
       "4  0:52:34                5     65  herre       Tromsø"
      ]
     },
     "execution_count": 7,
     "metadata": {},
     "output_type": "execute_result"
    }
   ],
   "source": [
    "# Vi ser på de fem øverste radene av datasettet\n",
    "data.head()"
   ]
  },
  {
   "cell_type": "code",
   "execution_count": 8,
   "metadata": {},
   "outputs": [
    {
     "data": {
      "image/png": "[encoded data removed]",
      "text/plain": [
       "<Figure size 640x480 with 1 Axes>"
      ]
     },
     "metadata": {},
     "output_type": "display_data"
    }
   ],
   "source": [
    "plt.hist(data[\"alder\"],range=[10,30]);"
   ]
  },
  {
   "cell_type": "markdown",
   "metadata": {},
   "source": [
    "_Oppgave: Svar på flervalgsspørsmålene 1 og 2 (vist nedenfor) i Canvas, og reflekter litt rundt svarene._\n",
    "\n",
    "1. _Før du har begynt å se på dataene, kan du si noe om hvorvidt de er representative eller har bias bare ut fra informasjonen du har fått om dataene?_\n",
    "2. _Når vi nå trener en modell på disse dataene, hvilken problemstilling er det vi faktisk svarer på?_"
   ]
  },
  {
   "cell_type": "code",
   "execution_count": 9,
   "metadata": {
    "cell_id": "00012-87319ea3-69f1-4a75-8048-5403c4a63fec",
    "deepnote_cell_type": "code",
    "deepnote_to_be_reexecuted": false,
    "execution_millis": 2,
    "execution_start": 1635950727594,
    "source_hash": "971b2222"
   },
   "outputs": [],
   "source": [
    "# Vi forenkler navnet på variabelen for å gjøre det litt enklere for oss selv\n",
    "data.rename(columns={\"trening per uke\":\"trening\"},inplace=True)"
   ]
  },
  {
   "cell_type": "code",
   "execution_count": 10,
   "metadata": {
    "cell_id": "00013-0d206cbe-2b82-4f90-8018-af28ca57db1b",
    "deepnote_cell_type": "code",
    "deepnote_to_be_reexecuted": false,
    "execution_millis": 89,
    "execution_start": 1635950729726,
    "source_hash": "9483d8b1"
   },
   "outputs": [],
   "source": [
    "# Her trekker vi ut antall minutter fra tiden som vi\n",
    "# får oppgitt i minutter:sekunder. Dette er et eksempel på feature\n",
    "# engineering som vi må gjøre før vi kan begynne å utforske dataene.\n",
    "data[\"tid\"] = pd.to_timedelta(\n",
    "    data[\"tid\"]).apply(lambda x: x.total_seconds()/60.0)"
   ]
  },
  {
   "cell_type": "code",
   "execution_count": 11,
   "metadata": {
    "cell_id": "00014-145d723e-cfe2-46ad-9396-98a933eeb15e",
    "deepnote_cell_type": "code",
    "deepnote_to_be_reexecuted": false,
    "execution_millis": 15,
    "execution_start": 1635950733124,
    "source_hash": "6a83dc91"
   },
   "outputs": [
    {
     "data": {
      "text/html": [
       "<div>\n",
       "<style scoped>\n",
       "    .dataframe tbody tr th:only-of-type {\n",
       "        vertical-align: middle;\n",
       "    }\n",
       "\n",
       "    .dataframe tbody tr th {\n",
       "        vertical-align: top;\n",
       "    }\n",
       "\n",
       "    .dataframe thead th {\n",
       "        text-align: right;\n",
       "    }\n",
       "</style>\n",
       "<table border=\"1\" class=\"dataframe\">\n",
       "  <thead>\n",
       "    <tr style=\"text-align: right;\">\n",
       "      <th></th>\n",
       "      <th>tid</th>\n",
       "      <th>trening</th>\n",
       "      <th>alder</th>\n",
       "      <th>klasse</th>\n",
       "      <th>løpsted</th>\n",
       "    </tr>\n",
       "  </thead>\n",
       "  <tbody>\n",
       "    <tr>\n",
       "      <th>0</th>\n",
       "      <td>40.266667</td>\n",
       "      <td>2</td>\n",
       "      <td>45</td>\n",
       "      <td>herre</td>\n",
       "      <td>Oslo</td>\n",
       "    </tr>\n",
       "    <tr>\n",
       "      <th>1</th>\n",
       "      <td>46.416667</td>\n",
       "      <td>8</td>\n",
       "      <td>19</td>\n",
       "      <td>dame</td>\n",
       "      <td>Tromsø</td>\n",
       "    </tr>\n",
       "    <tr>\n",
       "      <th>2</th>\n",
       "      <td>35.350000</td>\n",
       "      <td>5</td>\n",
       "      <td>48</td>\n",
       "      <td>herre</td>\n",
       "      <td>Tromsø</td>\n",
       "    </tr>\n",
       "    <tr>\n",
       "      <th>3</th>\n",
       "      <td>40.550000</td>\n",
       "      <td>11</td>\n",
       "      <td>47</td>\n",
       "      <td>dame</td>\n",
       "      <td>Lillehammer</td>\n",
       "    </tr>\n",
       "    <tr>\n",
       "      <th>4</th>\n",
       "      <td>52.566667</td>\n",
       "      <td>5</td>\n",
       "      <td>65</td>\n",
       "      <td>herre</td>\n",
       "      <td>Tromsø</td>\n",
       "    </tr>\n",
       "  </tbody>\n",
       "</table>\n",
       "</div>"
      ],
      "text/plain": [
       "         tid  trening  alder klasse      løpsted\n",
       "0  40.266667        2     45  herre         Oslo\n",
       "1  46.416667        8     19   dame       Tromsø\n",
       "2  35.350000        5     48  herre       Tromsø\n",
       "3  40.550000       11     47   dame  Lillehammer\n",
       "4  52.566667        5     65  herre       Tromsø"
      ]
     },
     "execution_count": 11,
     "metadata": {},
     "output_type": "execute_result"
    }
   ],
   "source": [
    "# Se på de fem øverste radene av dataene\n",
    "data.head()"
   ]
  },
  {
   "cell_type": "code",
   "execution_count": 12,
   "metadata": {
    "cell_id": "00015-f7821498-377c-4ca4-8022-bf762878a6db",
    "deepnote_cell_type": "code",
    "deepnote_output_heights": [
     21.1875
    ],
    "deepnote_to_be_reexecuted": false,
    "execution_millis": 18,
    "execution_start": 1635950736017,
    "source_hash": "cdcd5e69"
   },
   "outputs": [
    {
     "data": {
      "text/plain": [
       "(10000, 5)"
      ]
     },
     "execution_count": 12,
     "metadata": {},
     "output_type": "execute_result"
    }
   ],
   "source": [
    "# Hvor mye data har vi?\n",
    "data.shape"
   ]
  },
  {
   "cell_type": "code",
   "execution_count": 36,
   "metadata": {
    "cell_id": "00016-b83b49c4-04f0-4db6-9d4d-523855c69552",
    "deepnote_cell_type": "code",
    "deepnote_to_be_reexecuted": false,
    "execution_millis": 9,
    "execution_start": 1635950738836,
    "source_hash": "31baece2",
    "tags": []
   },
   "outputs": [
    {
     "name": "stdout",
     "output_type": "stream",
     "text": [
      "Gjennomsnitt 48.643071666666664\n",
      "Maks 120.0\n",
      "Min 11.216666666666667\n"
     ]
    }
   ],
   "source": [
    "# For de numeriske variablene kan du finne gjennomsnittet, maks og min.\n",
    "# Sjekk om du får realistiske verdier for alle variablene. Du må fra \"tid\"\n",
    "# til de andre numeriske variablene for å få til dette.\n",
    "print(\"Gjennomsnitt\", data[\"tid\"].mean())\n",
    "print(\"Maks\", data[\"tid\"].max())\n",
    "print(\"Min\", data[\"tid\"].min())"
   ]
  },
  {
   "cell_type": "code",
   "execution_count": 25,
   "metadata": {
    "cell_id": "00017-1deee632-ade1-41bd-bd16-f8ddd02506fc",
    "deepnote_cell_type": "code",
    "deepnote_output_heights": [
     59.5625
    ],
    "deepnote_to_be_reexecuted": false,
    "execution_millis": 9,
    "execution_start": 1635950743908,
    "source_hash": "21ff8a89"
   },
   "outputs": [
    {
     "data": {
      "text/plain": [
       "løpsted\n",
       "Tromsø          1727\n",
       "Lillehammer     1694\n",
       "Bergen          1661\n",
       "Kristiansand    1658\n",
       "Grimstad        1652\n",
       "Oslo            1608\n",
       "Name: count, dtype: int64"
      ]
     },
     "metadata": {},
     "output_type": "display_data"
    },
    {
     "data": {
      "text/plain": [
       "klasse\n",
       "herre    5057\n",
       "dame     4943\n",
       "Name: count, dtype: int64"
      ]
     },
     "metadata": {},
     "output_type": "display_data"
    }
   ],
   "source": [
    "# For de kategoriske variablene kan du telle antallet du har i hver kategori.\n",
    "# Sjekk også her at du får realistiske resultater for alle de kategoriske variablene.\n",
    "# Du må endre fra \"klasse\" til de andre kategoriske variablene for å få til dette.\n",
    "from IPython.display import display\n",
    "display(data[\"løpsted\"].value_counts())\n",
    "display(data[\"klasse\"].value_counts())\n",
    "\n",
    "#data[\"løpsted\"].value_counts()\n",
    "#data[\"klasse\"].value_counts()"
   ]
  },
  {
   "cell_type": "code",
   "execution_count": 40,
   "metadata": {},
   "outputs": [
    {
     "name": "stdout",
     "output_type": "stream",
     "text": [
      "alder\n",
      "28    255\n",
      "40    252\n",
      "27    243\n",
      "44    242\n",
      "41    237\n",
      "     ... \n",
      "83      8\n",
      "88      6\n",
      "84      5\n",
      "90      3\n",
      "89      1\n",
      "Name: count, Length: 74, dtype: int64\n",
      "lavest 10\n",
      "høyeste 90\n",
      "snitt 41.853\n",
      "median 40.0\n"
     ]
    }
   ],
   "source": [
    "print(data[\"alder\"].value_counts())\n",
    "#hva er laveste alder? \n",
    "print(\"lavest\", data[\"alder\"].min()) \n",
    "#høyeste? \n",
    "print(\"høyeste\", data[\"alder\"].max())\n",
    "#snitt?\n",
    "print(\"snitt\", data[\"alder\"].mean())\n",
    "#median?\n",
    "import statistics\n",
    "print(\"median\", statistics.median(data[\"alder\"]))\n"
   ]
  },
  {
   "cell_type": "markdown",
   "metadata": {},
   "source": [
    "Du skal nå bruke hjelpefunksjonen `make_histogram()` for å se på histogrammer over de numeriske variablene."
   ]
  },
  {
   "cell_type": "code",
   "execution_count": 22,
   "metadata": {
    "cell_id": "00018-2bfbe1d7-f729-4b06-bc97-136e38ad468e",
    "deepnote_cell_type": "code",
    "deepnote_output_heights": [
     264
    ],
    "deepnote_to_be_reexecuted": false,
    "execution_millis": 181,
    "execution_start": 1635950746972,
    "source_hash": "cb413c67"
   },
   "outputs": [
    {
     "data": {
      "text/plain": [
       "None"
      ]
     },
     "metadata": {},
     "output_type": "display_data"
    },
    {
     "data": {
      "text/plain": [
       "None"
      ]
     },
     "metadata": {},
     "output_type": "display_data"
    },
    {
     "data": {
      "image/png": "[encoded data removed]",
      "text/plain": [
       "<Figure size 640x480 with 1 Axes>"
      ]
     },
     "metadata": {},
     "output_type": "display_data"
    }
   ],
   "source": [
    "# Bruk av hjelpefunksjonen demonstreres nedenfor.\n",
    "# Det tredje argumentet er \"bin\"-bredden, og du kan også sette de frivillige\n",
    "# argumentene lower_lim og upper_lim.\n",
    "# Ser du her noe som ikke var så lett å se bare fra gjennomsnittet?\n",
    "display(make_histogram(data, \"trening\", 1))\n",
    "#display(make_histogram(data, \"alder\", 1))"
   ]
  },
  {
   "cell_type": "markdown",
   "metadata": {},
   "source": [
    "_Oppgave: Svar på flervalgsspørsmålene 3–6 (vist nedenfor) i Canvas._\n",
    "\n",
    "3. _Hvor mange datapunkter har vi, og hvor mange løpere?_ 5 variable og 10.000 løpere\n",
    "4. _Sjekk, for hver av de kategoriske variablene, hvor mange eksempler du har i hver kategori. Ser du noe rart?_ På løpestedene fordeler løperne seg omtrent likt\n",
    "5. _Er det noe rart med fordelingen av alder i dataene?_\n",
    "6. _Hva er rart med fordelingen av tider? Hvor fort kan du tenke deg at det er mulig å løpe 5 km?_"
   ]
  },
  {
   "cell_type": "code",
   "execution_count": 23,
   "metadata": {
    "cell_id": "00019-8e678fe2-a27f-4389-a92b-4f1b0f84563e",
    "deepnote_cell_type": "code",
    "deepnote_output_heights": [
     21.1875,
     592
    ],
    "deepnote_to_be_reexecuted": false,
    "execution_millis": 275,
    "execution_start": 1635950749536,
    "source_hash": "71df9a97"
   },
   "outputs": [
    {
     "ename": "ValueError",
     "evalue": "could not convert string to float: 'herre'",
     "output_type": "error",
     "traceback": [
      "\u001b[1;31m---------------------------------------------------------------------------\u001b[0m",
      "\u001b[1;31mValueError\u001b[0m                                Traceback (most recent call last)",
      "Cell \u001b[1;32mIn[23], line 3\u001b[0m\n\u001b[0;32m      1\u001b[0m \u001b[38;5;66;03m# Hjelpefunksjonen corr_heatmap gir et grafisk bilde på korrelasjonene.\u001b[39;00m\n\u001b[0;32m      2\u001b[0m \u001b[38;5;66;03m# Den bruker Pearsons korrelasjonskoeffisient.\u001b[39;00m\n\u001b[1;32m----> 3\u001b[0m corr_heatmap(\u001b[43mdata\u001b[49m\u001b[38;5;241;43m.\u001b[39;49m\u001b[43mcorr\u001b[49m\u001b[43m(\u001b[49m\u001b[43m)\u001b[49m)\n",
      "File \u001b[1;32m~\\AppData\\Local\\anaconda3\\envs\\kristiania\\lib\\site-packages\\pandas\\core\\frame.py:10707\u001b[0m, in \u001b[0;36mDataFrame.corr\u001b[1;34m(self, method, min_periods, numeric_only)\u001b[0m\n\u001b[0;32m  10705\u001b[0m cols \u001b[38;5;241m=\u001b[39m data\u001b[38;5;241m.\u001b[39mcolumns\n\u001b[0;32m  10706\u001b[0m idx \u001b[38;5;241m=\u001b[39m cols\u001b[38;5;241m.\u001b[39mcopy()\n\u001b[1;32m> 10707\u001b[0m mat \u001b[38;5;241m=\u001b[39m \u001b[43mdata\u001b[49m\u001b[38;5;241;43m.\u001b[39;49m\u001b[43mto_numpy\u001b[49m\u001b[43m(\u001b[49m\u001b[43mdtype\u001b[49m\u001b[38;5;241;43m=\u001b[39;49m\u001b[38;5;28;43mfloat\u001b[39;49m\u001b[43m,\u001b[49m\u001b[43m \u001b[49m\u001b[43mna_value\u001b[49m\u001b[38;5;241;43m=\u001b[39;49m\u001b[43mnp\u001b[49m\u001b[38;5;241;43m.\u001b[39;49m\u001b[43mnan\u001b[49m\u001b[43m,\u001b[49m\u001b[43m \u001b[49m\u001b[43mcopy\u001b[49m\u001b[38;5;241;43m=\u001b[39;49m\u001b[38;5;28;43;01mFalse\u001b[39;49;00m\u001b[43m)\u001b[49m\n\u001b[0;32m  10709\u001b[0m \u001b[38;5;28;01mif\u001b[39;00m method \u001b[38;5;241m==\u001b[39m \u001b[38;5;124m\"\u001b[39m\u001b[38;5;124mpearson\u001b[39m\u001b[38;5;124m\"\u001b[39m:\n\u001b[0;32m  10710\u001b[0m     correl \u001b[38;5;241m=\u001b[39m libalgos\u001b[38;5;241m.\u001b[39mnancorr(mat, minp\u001b[38;5;241m=\u001b[39mmin_periods)\n",
      "File \u001b[1;32m~\\AppData\\Local\\anaconda3\\envs\\kristiania\\lib\\site-packages\\pandas\\core\\frame.py:1892\u001b[0m, in \u001b[0;36mDataFrame.to_numpy\u001b[1;34m(self, dtype, copy, na_value)\u001b[0m\n\u001b[0;32m   1890\u001b[0m \u001b[38;5;28;01mif\u001b[39;00m dtype \u001b[38;5;129;01mis\u001b[39;00m \u001b[38;5;129;01mnot\u001b[39;00m \u001b[38;5;28;01mNone\u001b[39;00m:\n\u001b[0;32m   1891\u001b[0m     dtype \u001b[38;5;241m=\u001b[39m np\u001b[38;5;241m.\u001b[39mdtype(dtype)\n\u001b[1;32m-> 1892\u001b[0m result \u001b[38;5;241m=\u001b[39m \u001b[38;5;28;43mself\u001b[39;49m\u001b[38;5;241;43m.\u001b[39;49m\u001b[43m_mgr\u001b[49m\u001b[38;5;241;43m.\u001b[39;49m\u001b[43mas_array\u001b[49m\u001b[43m(\u001b[49m\u001b[43mdtype\u001b[49m\u001b[38;5;241;43m=\u001b[39;49m\u001b[43mdtype\u001b[49m\u001b[43m,\u001b[49m\u001b[43m \u001b[49m\u001b[43mcopy\u001b[49m\u001b[38;5;241;43m=\u001b[39;49m\u001b[43mcopy\u001b[49m\u001b[43m,\u001b[49m\u001b[43m \u001b[49m\u001b[43mna_value\u001b[49m\u001b[38;5;241;43m=\u001b[39;49m\u001b[43mna_value\u001b[49m\u001b[43m)\u001b[49m\n\u001b[0;32m   1893\u001b[0m \u001b[38;5;28;01mif\u001b[39;00m result\u001b[38;5;241m.\u001b[39mdtype \u001b[38;5;129;01mis\u001b[39;00m \u001b[38;5;129;01mnot\u001b[39;00m dtype:\n\u001b[0;32m   1894\u001b[0m     result \u001b[38;5;241m=\u001b[39m np\u001b[38;5;241m.\u001b[39marray(result, dtype\u001b[38;5;241m=\u001b[39mdtype, copy\u001b[38;5;241m=\u001b[39m\u001b[38;5;28;01mFalse\u001b[39;00m)\n",
      "File \u001b[1;32m~\\AppData\\Local\\anaconda3\\envs\\kristiania\\lib\\site-packages\\pandas\\core\\internals\\managers.py:1656\u001b[0m, in \u001b[0;36mBlockManager.as_array\u001b[1;34m(self, dtype, copy, na_value)\u001b[0m\n\u001b[0;32m   1654\u001b[0m         arr\u001b[38;5;241m.\u001b[39mflags\u001b[38;5;241m.\u001b[39mwriteable \u001b[38;5;241m=\u001b[39m \u001b[38;5;28;01mFalse\u001b[39;00m\n\u001b[0;32m   1655\u001b[0m \u001b[38;5;28;01melse\u001b[39;00m:\n\u001b[1;32m-> 1656\u001b[0m     arr \u001b[38;5;241m=\u001b[39m \u001b[38;5;28;43mself\u001b[39;49m\u001b[38;5;241;43m.\u001b[39;49m\u001b[43m_interleave\u001b[49m\u001b[43m(\u001b[49m\u001b[43mdtype\u001b[49m\u001b[38;5;241;43m=\u001b[39;49m\u001b[43mdtype\u001b[49m\u001b[43m,\u001b[49m\u001b[43m \u001b[49m\u001b[43mna_value\u001b[49m\u001b[38;5;241;43m=\u001b[39;49m\u001b[43mna_value\u001b[49m\u001b[43m)\u001b[49m\n\u001b[0;32m   1657\u001b[0m     \u001b[38;5;66;03m# The underlying data was copied within _interleave, so no need\u001b[39;00m\n\u001b[0;32m   1658\u001b[0m     \u001b[38;5;66;03m# to further copy if copy=True or setting na_value\u001b[39;00m\n\u001b[0;32m   1660\u001b[0m \u001b[38;5;28;01mif\u001b[39;00m na_value \u001b[38;5;129;01mis\u001b[39;00m lib\u001b[38;5;241m.\u001b[39mno_default:\n",
      "File \u001b[1;32m~\\AppData\\Local\\anaconda3\\envs\\kristiania\\lib\\site-packages\\pandas\\core\\internals\\managers.py:1715\u001b[0m, in \u001b[0;36mBlockManager._interleave\u001b[1;34m(self, dtype, na_value)\u001b[0m\n\u001b[0;32m   1713\u001b[0m     \u001b[38;5;28;01melse\u001b[39;00m:\n\u001b[0;32m   1714\u001b[0m         arr \u001b[38;5;241m=\u001b[39m blk\u001b[38;5;241m.\u001b[39mget_values(dtype)\n\u001b[1;32m-> 1715\u001b[0m     result[rl\u001b[38;5;241m.\u001b[39mindexer] \u001b[38;5;241m=\u001b[39m arr\n\u001b[0;32m   1716\u001b[0m     itemmask[rl\u001b[38;5;241m.\u001b[39mindexer] \u001b[38;5;241m=\u001b[39m \u001b[38;5;241m1\u001b[39m\n\u001b[0;32m   1718\u001b[0m \u001b[38;5;28;01mif\u001b[39;00m \u001b[38;5;129;01mnot\u001b[39;00m itemmask\u001b[38;5;241m.\u001b[39mall():\n",
      "\u001b[1;31mValueError\u001b[0m: could not convert string to float: 'herre'"
     ]
    }
   ],
   "source": [
    "# Hjelpefunksjonen corr_heatmap gir et grafisk bilde på korrelasjonene.\n",
    "# Den bruker Pearsons korrelasjonskoeffisient.\n",
    "corr_heatmap(data.corr())"
   ]
  },
  {
   "cell_type": "markdown",
   "metadata": {},
   "source": [
    "Dersom du vil se nærmere på noen av korrelasjonene, er det lurt å lage scatterplot.\n",
    "\n",
    "Prøv å lage scatterplots for alle  mulige kombinasjoner av variablene for å få et best mulig bilde av korrelasjonene."
   ]
  },
  {
   "cell_type": "code",
   "execution_count": 17,
   "metadata": {
    "cell_id": "00020-b347d44d-1b53-4777-acff-7d61b93c1e58",
    "deepnote_cell_type": "code",
    "deepnote_to_be_reexecuted": false,
    "execution_millis": 3,
    "execution_start": 1635950752590,
    "source_hash": "2d8bba3b"
   },
   "outputs": [
    {
     "data": {
      "image/png": "[encoded data removed]",
      "text/plain": [
       "<Figure size 640x480 with 1 Axes>"
      ]
     },
     "metadata": {},
     "output_type": "display_data"
    }
   ],
   "source": [
    "# Demonstrasjon av hjelpefunksjonen:\n",
    "make_scatter_plot(data, \"alder\", \"trening\")"
   ]
  },
  {
   "cell_type": "markdown",
   "metadata": {},
   "source": [
    "_Oppgave: Svar på flervalgsspørsmålene 7 og 8 (vist nedenfor) i Canvas._\n",
    "\n",
    "7. _Bruk hjelpefunksjonen til å se på korrelasjoner. Prøv å se på korrelasjonen før og etter at du har tatt vekk løperne som løp på 120 minutter, og løperne fra Lillehammer, siden vi nå kan anta at disse datapunktene ikke reflekterer den reelle løpstiden. Du kan ta vekk disse dataene med denne koden:_\n",
    "```\n",
    "data=data[data[\"tid\"]!=120] \n",
    "data=data[data[\"løpsted\"]!=\"Lillehammer\"]\n",
    "```\n",
    "_Hva ser du?_\n",
    "8. _Prøv å lage et scatterplot for å studere korrelasjonene litt grundigere. Hva finner du ut som ikke var lett å se kun fra korrelasjonskoeffisientene?_"
   ]
  },
  {
   "cell_type": "markdown",
   "metadata": {
    "cell_id": "00022-dc0b691b-f726-4687-940a-a29ecfafedb4",
    "deepnote_cell_type": "markdown"
   },
   "source": [
    "## Trene modellen\n",
    "Etter at vi har utforsket dataene, kan vi begynne med selve modelleringsfasen. Vi skal rense dataene på bakgrunn av det vi fant ut under utforskningen, preprosessere dem, og så trene modellen."
   ]
  },
  {
   "cell_type": "markdown",
   "metadata": {
    "cell_id": "00023-4040fda7-b258-4722-87ee-2eee765bdc04",
    "deepnote_cell_type": "markdown"
   },
   "source": [
    "### Fjerne det som opplagt er feil\n",
    "Under utforskningen av dataene har vi funnet at dataene fra Lillehammer virker å være urealistiske. Å løpe på 120 minutter er antageligvis en default verdi, og 10-åringer deltok antageligvis ikke i løpet på vanlig måte. Derfor fjerner vi disse datapunktene før vi starter."
   ]
  },
  {
   "cell_type": "code",
   "execution_count": 18,
   "metadata": {
    "cell_id": "00024-46a3da81-09a4-43b6-96ae-6b0953eb511f",
    "deepnote_cell_type": "code",
    "deepnote_to_be_reexecuted": false,
    "execution_millis": 676,
    "execution_start": 1635950763766,
    "source_hash": "d584ae1"
   },
   "outputs": [],
   "source": [
    "data = data[data[\"tid\"] != 120]\n",
    "data = data[data[\"alder\"] != 10]\n",
    "data = data[data[\"løpsted\"] != \"Lillehammer\"]"
   ]
  },
  {
   "cell_type": "markdown",
   "metadata": {
    "cell_id": "00025-0447ddfc-ac90-4efc-8f09-fcd11a78db14",
    "deepnote_cell_type": "markdown",
    "tags": []
   },
   "source": [
    "### Oppsplitting og preprosessering av dataene\n",
    "Her er det viktig å huske på at vi skal splitte dataene i trenings-, validerings- og testdata. Først henter vi ut testdataene, som vi ikke skal se på før alle valg for modellen er tatt (hvilken modell, hva slags preprosessering, hvilke features osv.). Deretter kan vi splitte de dataene vi har igjen, i trenings- og valideringsdata."
   ]
  },
  {
   "cell_type": "markdown",
   "metadata": {
    "cell_id": "00026-d28bade0-1593-47d2-a2e6-008d3982be33",
    "deepnote_cell_type": "markdown"
   },
   "source": [
    "### Gjøre alt om til tall\n",
    "En maskinlæringsalgoritme kan kun lese tall. Derfor starter vi med å gjøre om alle kategoriske variabler til tall. Siden de kategoriske variablene vi har (klasse og løpssted) ikke har noen naturlig rangering, velger vi å gjøre en-hot-koding (one-hot encoding)."
   ]
  },
  {
   "cell_type": "code",
   "execution_count": 19,
   "metadata": {
    "cell_id": "00027-1b7b4508-846e-4e31-8256-ae48012caf10",
    "deepnote_cell_type": "code",
    "deepnote_to_be_reexecuted": false,
    "execution_millis": 9,
    "execution_start": 1635950772041,
    "source_hash": "73552ff1"
   },
   "outputs": [],
   "source": [
    "# Her bruker vi en-hot-koding for å gjøre om de kategoriske variablene\n",
    "# til tall\n",
    "data = pd.get_dummies(data, drop_first=True)"
   ]
  },
  {
   "cell_type": "markdown",
   "metadata": {
    "cell_id": "00028-2faa4117-db7d-4883-81df-8fcdacac55ab",
    "deepnote_cell_type": "markdown"
   },
   "source": [
    "### Dele i treningsdata, evalueringsdata og testdata"
   ]
  },
  {
   "cell_type": "code",
   "execution_count": 20,
   "metadata": {
    "cell_id": "00029-e97c0a24-cb39-4541-b29d-4b8aa6b9bbd6",
    "deepnote_cell_type": "code",
    "deepnote_to_be_reexecuted": false,
    "execution_millis": 6,
    "execution_start": 1635950777236,
    "source_hash": "92aa2d65"
   },
   "outputs": [],
   "source": [
    "# Testdataene skal vi ikke se på før helt til slutt\n",
    "test_data = data.sample(frac=0.2, random_state=2)\n",
    "\n",
    "# Vi jobber så videre med datasettet der vi har tatt vekk testdataene\n",
    "mydata = data.drop(test_data.index).reset_index(drop=True)"
   ]
  },
  {
   "cell_type": "code",
   "execution_count": 21,
   "metadata": {
    "cell_id": "00030-50f5f146-5a4e-4464-ad24-e0df659f4dd4",
    "deepnote_cell_type": "code",
    "deepnote_to_be_reexecuted": false,
    "execution_millis": 6,
    "execution_start": 1635950779750,
    "source_hash": "11d90585"
   },
   "outputs": [],
   "source": [
    "# Vi deler datasettet der vi har tatt vekk testdataene inn i treningsdata og evalueringsdata\n",
    "X_train, X_eval, y_train, y_eval = train_test_split(\n",
    "    mydata.drop(columns=\"tid\"), mydata[\"tid\"], test_size=0.20, random_state=10)"
   ]
  },
  {
   "cell_type": "markdown",
   "metadata": {
    "cell_id": "00032-610684ba-987e-4caf-ad37-4fd1dbeca057",
    "deepnote_cell_type": "markdown",
    "tags": []
   },
   "source": [
    "### Skalering av dataene\n",
    "Merk her hvordan vi skalerer med treningsdataene og bruker skaleringen fra treningsdataene på valideringsdataene."
   ]
  },
  {
   "cell_type": "code",
   "execution_count": 22,
   "metadata": {
    "cell_id": "00032-b2cb329c-8d7e-4ac4-bf87-4062b8c9a090",
    "deepnote_cell_type": "code",
    "deepnote_to_be_reexecuted": false,
    "execution_millis": 8,
    "execution_start": 1635950783847,
    "source_hash": "fafbc06c",
    "tags": []
   },
   "outputs": [],
   "source": [
    "# Her lager vi en min/max scalar ved hjelp av treningsdataene\n",
    "scalerX = MinMaxScaler()\n",
    "scalerX.fit(X_train)\n",
    "# Både for treningsdataene og evalueringsdataene skalerer vi med min/max fra treningsdataene\n",
    "X_train = scalerX.transform(X_train)\n",
    "X_eval = scalerX.transform(X_eval)"
   ]
  },
  {
   "cell_type": "markdown",
   "metadata": {
    "cell_id": "00031-3e87cbe8-66a3-41de-9d1a-30ddfc3db3f9",
    "deepnote_cell_type": "markdown"
   },
   "source": [
    "### Trene en enkel lineær modell\n",
    "Vi vet hva vi ønsker å predikere (løpstiden), altså kjenner vi den avhengige variabelen. Det vil si at vi har et veiledet problem. Den avhengige variabelen er numerisk, og derfor skal vi trene en regresjonsmodell.\n",
    "\n",
    "Som et første forsøk trener vi en enkel lineær regresjonsmodell."
   ]
  },
  {
   "cell_type": "code",
   "execution_count": 23,
   "metadata": {
    "cell_id": "00032-99301732-4e33-4c17-8108-02b6c301d31d",
    "deepnote_cell_type": "code",
    "deepnote_output_heights": [
     21.1875
    ],
    "deepnote_to_be_reexecuted": false,
    "execution_millis": 15,
    "execution_start": 1635950787877,
    "source_hash": "92234db0"
   },
   "outputs": [
    {
     "data": {
      "text/html": [
       "<style>#sk-container-id-1 {color: black;background-color: white;}#sk-container-id-1 pre{padding: 0;}#sk-container-id-1 div.sk-toggleable {background-color: white;}#sk-container-id-1 label.sk-toggleable__label {cursor: pointer;display: block;width: 100%;margin-bottom: 0;padding: 0.3em;box-sizing: border-box;text-align: center;}#sk-container-id-1 label.sk-toggleable__label-arrow:before {content: \"▸\";float: left;margin-right: 0.25em;color: #696969;}#sk-container-id-1 label.sk-toggleable__label-arrow:hover:before {color: black;}#sk-container-id-1 div.sk-estimator:hover label.sk-toggleable__label-arrow:before {color: black;}#sk-container-id-1 div.sk-toggleable__content {max-height: 0;max-width: 0;overflow: hidden;text-align: left;background-color: #f0f8ff;}#sk-container-id-1 div.sk-toggleable__content pre {margin: 0.2em;color: black;border-radius: 0.25em;background-color: #f0f8ff;}#sk-container-id-1 input.sk-toggleable__control:checked~div.sk-toggleable__content {max-height: 200px;max-width: 100%;overflow: auto;}#sk-container-id-1 input.sk-toggleable__control:checked~label.sk-toggleable__label-arrow:before {content: \"▾\";}#sk-container-id-1 div.sk-estimator input.sk-toggleable__control:checked~label.sk-toggleable__label {background-color: #d4ebff;}#sk-container-id-1 div.sk-label input.sk-toggleable__control:checked~label.sk-toggleable__label {background-color: #d4ebff;}#sk-container-id-1 input.sk-hidden--visually {border: 0;clip: rect(1px 1px 1px 1px);clip: rect(1px, 1px, 1px, 1px);height: 1px;margin: -1px;overflow: hidden;padding: 0;position: absolute;width: 1px;}#sk-container-id-1 div.sk-estimator {font-family: monospace;background-color: #f0f8ff;border: 1px dotted black;border-radius: 0.25em;box-sizing: border-box;margin-bottom: 0.5em;}#sk-container-id-1 div.sk-estimator:hover {background-color: #d4ebff;}#sk-container-id-1 div.sk-parallel-item::after {content: \"\";width: 100%;border-bottom: 1px solid gray;flex-grow: 1;}#sk-container-id-1 div.sk-label:hover label.sk-toggleable__label {background-color: #d4ebff;}#sk-container-id-1 div.sk-serial::before {content: \"\";position: absolute;border-left: 1px solid gray;box-sizing: border-box;top: 0;bottom: 0;left: 50%;z-index: 0;}#sk-container-id-1 div.sk-serial {display: flex;flex-direction: column;align-items: center;background-color: white;padding-right: 0.2em;padding-left: 0.2em;position: relative;}#sk-container-id-1 div.sk-item {position: relative;z-index: 1;}#sk-container-id-1 div.sk-parallel {display: flex;align-items: stretch;justify-content: center;background-color: white;position: relative;}#sk-container-id-1 div.sk-item::before, #sk-container-id-1 div.sk-parallel-item::before {content: \"\";position: absolute;border-left: 1px solid gray;box-sizing: border-box;top: 0;bottom: 0;left: 50%;z-index: -1;}#sk-container-id-1 div.sk-parallel-item {display: flex;flex-direction: column;z-index: 1;position: relative;background-color: white;}#sk-container-id-1 div.sk-parallel-item:first-child::after {align-self: flex-end;width: 50%;}#sk-container-id-1 div.sk-parallel-item:last-child::after {align-self: flex-start;width: 50%;}#sk-container-id-1 div.sk-parallel-item:only-child::after {width: 0;}#sk-container-id-1 div.sk-dashed-wrapped {border: 1px dashed gray;margin: 0 0.4em 0.5em 0.4em;box-sizing: border-box;padding-bottom: 0.4em;background-color: white;}#sk-container-id-1 div.sk-label label {font-family: monospace;font-weight: bold;display: inline-block;line-height: 1.2em;}#sk-container-id-1 div.sk-label-container {text-align: center;}#sk-container-id-1 div.sk-container {/* jupyter's `normalize.less` sets `[hidden] { display: none; }` but bootstrap.min.css set `[hidden] { display: none !important; }` so we also need the `!important` here to be able to override the default hidden behavior on the sphinx rendered scikit-learn.org. See: https://github.com/scikit-learn/scikit-learn/issues/21755 */display: inline-block !important;position: relative;}#sk-container-id-1 div.sk-text-repr-fallback {display: none;}</style><div id=\"sk-container-id-1\" class=\"sk-top-container\"><div class=\"sk-text-repr-fallback\"><pre>LinearRegression()</pre><b>In a Jupyter environment, please rerun this cell to show the HTML representation or trust the notebook. <br />On GitHub, the HTML representation is unable to render, please try loading this page with nbviewer.org.</b></div><div class=\"sk-container\" hidden><div class=\"sk-item\"><div class=\"sk-estimator sk-toggleable\"><input class=\"sk-toggleable__control sk-hidden--visually\" id=\"sk-estimator-id-1\" type=\"checkbox\" checked><label for=\"sk-estimator-id-1\" class=\"sk-toggleable__label sk-toggleable__label-arrow\">LinearRegression</label><div class=\"sk-toggleable__content\"><pre>LinearRegression()</pre></div></div></div></div></div>"
      ],
      "text/plain": [
       "LinearRegression()"
      ]
     },
     "execution_count": 23,
     "metadata": {},
     "output_type": "execute_result"
    }
   ],
   "source": [
    "model = LinearRegression()\n",
    "model.fit(X_train, y_train)"
   ]
  },
  {
   "cell_type": "code",
   "execution_count": 24,
   "metadata": {
    "cell_id": "00033-7fd3f4bd-c896-4ab3-94ef-41e51e79012b",
    "deepnote_cell_type": "code",
    "deepnote_to_be_reexecuted": false,
    "execution_millis": 344,
    "execution_start": 1635950790985,
    "source_hash": "521464ea"
   },
   "outputs": [
    {
     "data": {
      "text/plain": [
       "5.906466927501045"
      ]
     },
     "execution_count": 24,
     "metadata": {},
     "output_type": "execute_result"
    }
   ],
   "source": [
    "# Så kan vi regne ut RMSE på valideringsdataene\n",
    "np.sqrt(mean_squared_error(y_eval, model.predict(X_eval)))"
   ]
  },
  {
   "cell_type": "markdown",
   "metadata": {},
   "source": [
    "_Oppgave: Svar på flervalgsspørsmålene 9 og 10 (vist nedenfor) i Canvas._\n",
    "\n",
    "9. _Prøv å trene en enkel lineær modell. Husk å dele i treningsdata, evalueringsdata og testdata. Gjør den nødvendige preprosesseringen av dataene. Regn ut RMSE på evalueringsdataene. Gjør dette med og uten å fjerne dataene som vi antar er feil. Hva blir resultatet?_\n",
    "10. _Nå når vi har trent modellen og testet den på evalueringsdataene, bør vi da med en gang sjekke hvor godt den fungerer på testdataene?_\n"
   ]
  },
  {
   "cell_type": "markdown",
   "metadata": {},
   "source": [
    "_Oppgave: Svar på fritekstspørsmålene 11–13 (vist nedenfor) i Canvas._\n",
    "\n",
    "11. _I denne notebooken har vi helt klart en bias i dataene, siden dataene kun består av personer som har valgt å stille opp i et mosjonsløp. Men vi spør også løperne hvor mange timer i uken de trener. Vil ikke det spørsmålet ta vekk biasen, slik at modellen kan brukes til å predikere hvor fort en hvilken som helst person kommer til å løpe 5 km? Hva tenker du rundt dette?_\n",
    "12. _Da vi utforsket dataene, så vi at noen løp raskere enn verdensrekorden, og det viste seg at alle de raske tidene kom fra løpet på Lillehammer. Hva bør vi gjøre i denne situasjonen og med disse dataene?_\n",
    "13. _Dataene om antall treningstimer er samlet inn ved at man har spurt løperne selv om hvor mange timer i uken de trener. Tenk deg at du har muligheten til å samle inn data om antall treningstimer på nytt, og at du har masse ressurser til å gjøre det. Hva vil du gjøre annerledes?_"
   ]
  }
 ],
 "metadata": {
  "colab": {
   "include_colab_link": true,
   "name": "OppgaveDS.ipynb",
   "provenance": []
  },
  "deepnote": {},
  "deepnote_execution_queue": [],
  "deepnote_notebook_id": "94439bc5-d08d-4449-ab4c-63239d680b9b",
  "kernelspec": {
   "display_name": "Python 3 (ipykernel)",
   "language": "python",
   "name": "python3"
  },
  "language_info": {
   "codemirror_mode": {
    "name": "ipython",
    "version": 3
   },
   "file_extension": ".py",
   "mimetype": "text/x-python",
   "name": "python",
   "nbconvert_exporter": "python",
   "pygments_lexer": "ipython3",
   "version": "3.9.18"
  }
 },
 "nbformat": 4,
 "nbformat_minor": 4
}
